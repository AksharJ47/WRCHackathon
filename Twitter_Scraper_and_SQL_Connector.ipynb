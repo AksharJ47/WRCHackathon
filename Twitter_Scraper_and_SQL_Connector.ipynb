{
 "cells": [
  {
   "cell_type": "markdown",
   "metadata": {
    "colab_type": "text",
    "id": "t6z7ncXirnv7"
   },
   "source": [
    "# Building an ETL Pipeline for WRC Hackathon"
   ]
  },
  {
   "cell_type": "markdown",
   "metadata": {},
   "source": [
    "### Tools"
   ]
  },
  {
   "cell_type": "code",
   "execution_count": 52,
   "metadata": {
    "colab": {},
    "colab_type": "code",
    "id": "jtYowqI_RiBL"
   },
   "outputs": [],
   "source": [
    "# Importing Packages\n",
    "\n",
    "import tweepy as tw         \n",
    "import pandas as pd     \n",
    "import numpy as np\n",
    "from datetime import date, timedelta\n",
    "import json\n",
    "import re\n",
    "from IPython.display import display\n",
    "import pyodbc"
   ]
  },
  {
   "cell_type": "code",
   "execution_count": 53,
   "metadata": {
    "colab": {},
    "colab_type": "code",
    "id": "lquylmvOnFvt"
   },
   "outputs": [],
   "source": [
    "# API Keys\n",
    "\n",
    "CONSUMER_KEY    = 'egoItCf7bZMp4gopTCXC0WH2O'\n",
    "CONSUMER_SECRET = 'Ph7fyNWzMnLTb0rgx5w0GPb0bzWlfyUtfVhZZGt5jVk4FJeBxK'\n",
    "\n",
    "ACCESS_TOKEN  = '840149748354965504-6fGpkvdj6n53uVG5231Oq6PhyLzHlfO'\n",
    "ACCESS_SECRET = 'f17t2HIfmpsgh1IBxgdugigEH8Xuzhps7gjGT2jfLOgxT'"
   ]
  },
  {
   "cell_type": "code",
   "execution_count": 54,
   "metadata": {},
   "outputs": [],
   "source": [
    "# Create authentication\n",
    "\n",
    "auth = tw.OAuthHandler(CONSUMER_KEY, CONSUMER_SECRET)\n",
    "auth.set_access_token(ACCESS_TOKEN, ACCESS_SECRET)\n",
    "api = tw.API(auth, wait_on_rate_limit=True)"
   ]
  },
  {
   "cell_type": "markdown",
   "metadata": {},
   "source": [
    "### Data"
   ]
  },
  {
   "cell_type": "markdown",
   "metadata": {},
   "source": [
    "Both sets need expansion"
   ]
  },
  {
   "cell_type": "code",
   "execution_count": 55,
   "metadata": {},
   "outputs": [],
   "source": [
    " key_words = [ 'leaks' , 'burst' , 'water pressure', 'water','cuts', 'pipe',\n",
    " 'fault', 'broken', 'damaged', 'toilets', 'sanitation',\n",
    " 'leakage', 'wasted', 'complaints', 'complained', 'reported', 'water supply',\n",
    " 'service delivery', 'outage', 'no water', 'reference number', 'faults'\n",
    " 'faults' ,'leaks' , 'report' , 'complain' ,'install']"
   ]
  },
  {
   "cell_type": "code",
   "execution_count": 56,
   "metadata": {},
   "outputs": [],
   "source": [
    "master_list =[['alfred_enzo' ,'@alfrednzoDM', 'eastern_cape'],\n",
    "              ['amajuba' ,'@AmajubaDM' , 'kwazulu_natal' ],\n",
    "              ['cape_wine_lands','@CWDM2','western_cape'],\n",
    "              ['ehlanzeni' ,'@EhlanzeniM','mpumalanga'],\n",
    "              ['fezile_dabi', '@FezileDabiDM','free_state' ],\n",
    "              ['garden_route', '@GardenRoute_DM','western_cape'],\n",
    "              ['gert_sibande','@GertSibandeDM','mpumalanga' ],\n",
    "              ['ilembe' ,'@DistrictIlembe','kwazulu_natal'],\n",
    "              ['king_cetshwayo','@Cetshwayo_dm','kwazulu_natal'],\n",
    "              ['lejweleputswa', '@LejweleputswaM','free_state' ],\n",
    "              ['mangaung', '@MangaungCity','free_state' ],\n",
    "              ['nkangala', '@NkangalaDM','mpumalanga' ],\n",
    "              ['sedibeng', '@SedibengDM','gauteng' ],\n",
    "              ['ugu', '@UguDM','kwazulu_natal'],\n",
    "              ['north_uthungulu','@UmkhanyakudeM','kwazulu_natal'],\n",
    "              ['uthukela', '@OkhahlambaLM','kwazulu_natal'],\n",
    "              ['vhembe', '@VhembeDM','limpopo'],\n",
    "              ['rand_west_city', '@RandLocal','gauteng' ],\n",
    "              ['sedibeng' ,'@EmfuleniLM','gauteng' ],\n",
    "              ['amathole','Amathole District', 'eastern_cape'] , \n",
    "              [ 'bojanala','Bojanala District', 'north_west'], \n",
    "              [ 'capricon' ,'Capricorn District', 'limpopo'], \n",
    "              ['karoo' ,'Central Karoo District', 'western_cape'],\n",
    "              ['chris_hani' ,'Chris Hani District', 'eastern_cape'], \n",
    "              ['kenneth_kaunda','Dr Kenneth Kaunda District', 'north_west'], \n",
    "              ['dr_ruth','Dr Ruth Segomotsi Mompati District', 'north_west'] ,\n",
    "              ['frances','Frances Baard District', 'northern_cape'],\n",
    "              ['harry_gwala','Harry Gwala District', 'kwazulu_natal'], \n",
    "              ['joe_gqabi','Joe Gqabi District', 'eastern_cape' ],\n",
    "              ['john_taolo','John Taolo Gaetsewe District', 'northern_cape'], \n",
    "              ['mopani','Mopani District', 'limpopo'],\n",
    "              ['namakwa','Namakwa District', 'northern_Cape'], \n",
    "              ['ngaka','Ngaka Modiri Molema', 'north_west'], \n",
    "              ['or_tambo' ,'OR Tambo District', 'eastern_cape'], \n",
    "              ['overberge','Overberg District', 'western_cape'],\n",
    "              ['pixley_ka_seme','Pixley ka Seme District', 'northern_cape'], \n",
    "              ['sarah', 'Sarah Baartman District', 'eastern_cape'],\n",
    "              ['sekhukune','Sekhukhune District', 'limpopo'],\n",
    "              ['thabo','Thabo Mofutsanyana District', 'free_state'] ,\n",
    "              ['umgungundlovu' ,'uMgungundlovu District', 'kwazulu_natal'] ,\n",
    "              ['umzinyathi','uMzinyathi District', 'kwazulu_natal'],\n",
    "              ['waterberg','Waterberg District', 'limpopo' ],\n",
    "              ['west_cost' ,'West Coast District', 'western_cape'], \n",
    "              ['zf_mchunu' ,'ZF Mgcawu District', 'northern_cape'],\n",
    "              ['xhariep' ,'Xhariep District', 'free_state'],\n",
    "              ['zululand' ,'Zululand District', 'kwazulu_natal']]"
   ]
  },
  {
   "cell_type": "markdown",
   "metadata": {},
   "source": [
    "### Functions"
   ]
  },
  {
   "cell_type": "code",
   "execution_count": 57,
   "metadata": {},
   "outputs": [],
   "source": [
    "def extract_tweets(search_word) :\n",
    "\n",
    "    search_words = search_word + \" -filter:retweets\"\n",
    "    today = date.today()                     \n",
    "    tweets = tw.Cursor(api.search,\n",
    "               q=search_words,\n",
    "               lang=\"en\"\n",
    "               ).items(200)                    \n",
    "    tweet_status = [tweet for tweet in tweets]\n",
    "    tweet_list = [tweet.text for tweet in tweet_status]\n",
    "    tweet_date = [tweet.created_at for tweet in tweet_status]\n",
    "    co_od = [tweet.coordinates for tweet in tweet_status]\n",
    "\n",
    "    tweet_df = pd.DataFrame(data=tweet_list, \n",
    "        columns=['tweet'])\n",
    "    tweet_df['timestamp'] = tweet_date\n",
    "    tweet_df['coordinates'] = co_od\n",
    "        \n",
    "    return tweet_df"
   ]
  },
  {
   "cell_type": "code",
   "execution_count": 58,
   "metadata": {},
   "outputs": [],
   "source": [
    "def TweetCleaner(tweet):\n",
    "\n",
    "    tweet = tweet.lower()  \n",
    "    tweet = re.sub('@[\\w]*','',tweet)  \n",
    "    tweet = re.sub(r'https?:\\/\\/.*\\/\\w*', '', tweet)\n",
    "    tweet = re.sub(r'#\\w*', '', tweet)     \n",
    "    tweet = re.sub(r\"[,.;':@#?!\\&/$]+\\ *\", ' ', tweet)\n",
    "    tweet = re.sub(r\"U+FFFD \", ' ', tweet)\n",
    "    tweet = re.sub(r'\\s\\s+', ' ', tweet)\n",
    "    tweet = tweet.lstrip(' ')\n",
    "    tweet = ' '.join([i for i in tweet if i in key_words])\n",
    "    \n",
    "    return tweet"
   ]
  },
  {
   "cell_type": "code",
   "execution_count": 59,
   "metadata": {},
   "outputs": [],
   "source": [
    "def create_df(the_list) :\n",
    "    \n",
    "    col_order = ['tweet', 'timestamp','keywords' ,'coordinates']\n",
    "    data = [['a', 'b' ,'c' ,'d']]    \n",
    "    dummy_df = pd.DataFrame(data, columns = ['tweet', 'timestamp','keywords' ,'coordinates'])\n",
    "\n",
    "    for i in the_list :\n",
    "        handle = i[1]\n",
    "        df = extract_tweets(handle)\n",
    "        df['keywords'] = df['tweet'].apply(TweetCleaner)\n",
    "        df = df[col_order]\n",
    "\n",
    "        dummy_df = dummy_df.append(df)\n",
    "    \n",
    "    dummy_df = dummy_df.drop([0])\n",
    "    dummy_df = dummy_df.reset_index()\n",
    "    dummy_df = dummy_df.drop(columns = ['index'] , axis = 1)   \n",
    "    \n",
    "    return dummy_df\n"
   ]
  },
  {
   "cell_type": "markdown",
   "metadata": {},
   "source": [
    "### Build Data"
   ]
  },
  {
   "cell_type": "code",
   "execution_count": null,
   "metadata": {},
   "outputs": [],
   "source": [
    "database = create_df(master_list)"
   ]
  },
  {
   "cell_type": "code",
   "execution_count": null,
   "metadata": {},
   "outputs": [],
   "source": [
    "database.head()"
   ]
  },
  {
   "cell_type": "markdown",
   "metadata": {},
   "source": [
    "### Database connection"
   ]
  },
  {
   "cell_type": "code",
   "execution_count": null,
   "metadata": {},
   "outputs": [],
   "source": []
  }
 ],
 "metadata": {
  "colab": {
   "name": "pipeline_student_version.ipynb",
   "provenance": []
  },
  "kernelspec": {
   "display_name": "Python 3",
   "language": "python",
   "name": "python3"
  },
  "language_info": {
   "codemirror_mode": {
    "name": "ipython",
    "version": 3
   },
   "file_extension": ".py",
   "mimetype": "text/x-python",
   "name": "python",
   "nbconvert_exporter": "python",
   "pygments_lexer": "ipython3",
   "version": "3.7.4"
  }
 },
 "nbformat": 4,
 "nbformat_minor": 1
}
