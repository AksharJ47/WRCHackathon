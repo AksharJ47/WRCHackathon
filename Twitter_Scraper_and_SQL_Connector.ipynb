{
 "cells": [
  {
   "cell_type": "markdown",
   "metadata": {
    "colab_type": "text",
    "id": "t6z7ncXirnv7"
   },
   "source": [
    "# Building an ETL Pipeline for WRC Hackathon"
   ]
  },
  {
   "cell_type": "markdown",
   "metadata": {},
   "source": [
    "### Tools"
   ]
  },
  {
   "cell_type": "code",
   "execution_count": 29,
   "metadata": {
    "colab": {},
    "colab_type": "code",
    "id": "jtYowqI_RiBL"
   },
   "outputs": [],
   "source": [
    "# Importing Packages\n",
    "\n",
    "import tweepy as tw         \n",
    "import pandas as pd     \n",
    "import numpy as np\n",
    "from datetime import date, timedelta\n",
    "import json\n",
    "import re\n",
    "from IPython.display import display\n",
    "import pyodbc"
   ]
  },
  {
   "cell_type": "code",
   "execution_count": 30,
   "metadata": {
    "colab": {},
    "colab_type": "code",
    "id": "lquylmvOnFvt"
   },
   "outputs": [],
   "source": [
    "# API Keys\n",
    "\n",
    "CONSUMER_KEY    = 'egoItCf7bZMp4gopTCXC0WH2O'\n",
    "CONSUMER_SECRET = 'Ph7fyNWzMnLTb0rgx5w0GPb0bzWlfyUtfVhZZGt5jVk4FJeBxK'\n",
    "\n",
    "ACCESS_TOKEN  = '840149748354965504-6fGpkvdj6n53uVG5231Oq6PhyLzHlfO'\n",
    "ACCESS_SECRET = 'f17t2HIfmpsgh1IBxgdugigEH8Xuzhps7gjGT2jfLOgxT'"
   ]
  },
  {
   "cell_type": "code",
   "execution_count": 31,
   "metadata": {},
   "outputs": [],
   "source": [
    "# Create authentication\n",
    "\n",
    "auth = tw.OAuthHandler(CONSUMER_KEY, CONSUMER_SECRET)\n",
    "auth.set_access_token(ACCESS_TOKEN, ACCESS_SECRET)\n",
    "api = tw.API(auth, wait_on_rate_limit=True)"
   ]
  },
  {
   "cell_type": "markdown",
   "metadata": {},
   "source": [
    "### Data"
   ]
  },
  {
   "cell_type": "markdown",
   "metadata": {},
   "source": [
    "Both sets need expansion"
   ]
  },
  {
   "cell_type": "code",
   "execution_count": 32,
   "metadata": {},
   "outputs": [],
   "source": [
    " key_words = [ 'leaks' , 'burst' , 'water pressure', 'water cuts', 'pipe' ,\n",
    " 'water pipe', 'fault', 'broken', 'damaged', 'toilets', 'sanitation',\n",
    " 'leakage', 'wasted', 'complaints', 'complained', 'reported', 'water supply',\n",
    " 'service delivery', 'water outage', 'no water', 'reference number', 'water faults'\n",
    " 'faults' ,'leaks' , 'report' , 'complain' ,'install','no']"
   ]
  },
  {
   "cell_type": "code",
   "execution_count": 33,
   "metadata": {},
   "outputs": [],
   "source": [
    "master_list =[['alfred_enzo' ,'@alfrednzoDM' ,'amatola_water', 'eastern_cape', 'nelson_mandela_bay'],\n",
    "              ['amajuba' ,'@AmajubaDM' , 'mhlathuze Water' , 'kwazulu_natal','ethekwini' ],\n",
    "              ['cape_wine_lands','@CWDM2','overberg Water board','western_cape' , 'city_of_cape_town'],\n",
    "              ['ehlanzeni' ,'@EhlanzeniM','dwa','mpumalanga' , 'ehlanzeni'],\n",
    "              ['fezile_dabi', '@FezileDabiDM','dwa','free_state' , 'mangaung'],\n",
    "              ['garden_route', '@GardenRoute_DM','dwa','western_cape' ,'city_of_cape_town'],\n",
    "              ['gert_sibande','@GertSibandeDM','dwa','mpumalanga' , 'ehlanzeni'],\n",
    "              ['ilembe' ,'@DistrictIlembe','umngeni_water','kwazulu_natal' , 'ethekwini'],\n",
    "              ['king_cetshwayo','@Cetshwayo_dm','mhlathuze_water','kwazulu_natal' , 'ethekwini'],\n",
    "              ['lejweleputswa', '@LejweleputswaM','dws','free_state' , 'mangaung'],\n",
    "              ['mangaung', '@MangaungCity','bloem_water','free_state' , 'mangaung'],\n",
    "              ['nkangala', '@NkangalaDM','dws','mpumalanga' , 'mangaung'],\n",
    "              ['sedibeng', '@SedibengDM','sedibeng_water','gauteng' , 'city_of_johannesburg'],\n",
    "              ['ugu', '@UguDM','dws','kwazulu_natal' , 'ethekwini'],\n",
    "              ['north_uthungulu','@UmkhanyakudeM','mhlathuze_water','kwazulu_natal' ,'ethekwini'],\n",
    "              ['uthukela', '@OkhahlambaLM','umngeni_water','kwazulu_natal' ,'ethekwini'],\n",
    "              ['vhembe', '@VhembeDM','dws','limpopo' , 'vhembe'],\n",
    "              ['rand_west_city', '@RandLocal','dws','gauteng' , 'city_of_johannesburg'],\n",
    "              ['sedibeng' ,'@EmfuleniLM','sedibeng_water','gauteng' , 'city_of_johannesburg'],\n",
    "              ['amathole','Amathole District'] , \n",
    "              [ 'bojanala','Bojanala District'], \n",
    "              [ 'capricon' ,'Capricorn District'], \n",
    "              ['karoo' ,'Central Karoo District' ],\n",
    "               ['chris_hani' ,'Chris Hani District'], \n",
    "              ['kenneth_kaunda','Dr Kenneth Kaunda District'], \n",
    "              ['dr_ruth','Dr Ruth Segomotsi Mompati District'] ,\n",
    "              ['franses','Frances Baard District' ],\n",
    "              ['harry_gwala','Harry Gwala District'], \n",
    "              ['joe_gqabi','Joe Gqabi District' ],\n",
    "              ['john_taolo','John Taolo Gaetsewe District'], \n",
    "              ['mopani','Mopani District' ],\n",
    "              ['namakwa','Namakwa District'], \n",
    "              ['ngaka','Ngaka Modiri Molema'], \n",
    "              ['or_tambo' ,'OR Tambo District'], \n",
    "              ['overberge','Overberg District' ],\n",
    "              ['pixley_ka_seme','Pixley ka Seme District'], \n",
    "              ['sarah', 'Sarah Baartman District' ],\n",
    "              ['sekhukune','Sekhukhune District' ],\n",
    "              ['thabo','Thabo Mofutsanyana District'] ,\n",
    "              ['umgungundlove' ,'uMgungundlovu District'] ,\n",
    "              ['umzinyathi','uMzinyathi District' ],\n",
    "              ['waterberg','Waterberg District' ],\n",
    "              ['west_cost' ,'West Coast District'], \n",
    "              ['zf_mchunu' ,'ZF Mgcawu District' ],\n",
    "              ['xhariep' ,'Xhariep District' ],\n",
    "              ['zululand' ,'Zululand District']]"
   ]
  },
  {
   "cell_type": "markdown",
   "metadata": {},
   "source": [
    "### Functions"
   ]
  },
  {
   "cell_type": "code",
   "execution_count": 34,
   "metadata": {},
   "outputs": [],
   "source": [
    "def extract_tweets(search_word) :\n",
    "\n",
    "    search_words = search_word + \" -filter:retweets\"\n",
    "    today = date.today()                     \n",
    "    tweets = tw.Cursor(api.search,\n",
    "               q=search_words,\n",
    "               lang=\"en\"\n",
    "               ).items(200)                    \n",
    "    tweet_status = [tweet for tweet in tweets]\n",
    "    tweet_list = [tweet.text for tweet in tweet_status]\n",
    "    tweet_date = [tweet.created_at for tweet in tweet_status]\n",
    "    co_od = [tweet.coordinates for tweet in tweet_status]\n",
    "\n",
    "    tweet_df = pd.DataFrame(data=tweet_list, \n",
    "        columns=['message'])\n",
    "    tweet_df['timestamp'] = tweet_date\n",
    "        \n",
    "    return tweet_df"
   ]
  },
  {
   "cell_type": "code",
   "execution_count": 35,
   "metadata": {},
   "outputs": [],
   "source": [
    "def TweetCleaner(tweet):\n",
    "\n",
    "    tweet = tweet.lower()  \n",
    "    tweet = re.sub('@[\\w]*','',tweet)  \n",
    "    tweet = re.sub(r'https?:\\/\\/.*\\/\\w*', '', tweet)\n",
    "    tweet = re.sub(r'#\\w*', '', tweet)     \n",
    "    tweet = re.sub(r\"[,.;':@#?!\\&/$]+\\ *\", ' ', tweet)\n",
    "    tweet = re.sub(r\"U+FFFD \", ' ', tweet)\n",
    "    tweet = re.sub(r'\\s\\s+', ' ', tweet)\n",
    "    tweet = tweet.lstrip(' ') \n",
    "    \n",
    "    return tweet"
   ]
  },
  {
   "cell_type": "code",
   "execution_count": 36,
   "metadata": {},
   "outputs": [],
   "source": [
    "def create_df(the_list) :\n",
    "    \n",
    "    data = [['a', 'b' ,'c']]    \n",
    "    dummy_df = pd.DataFrame(data, columns = ['message', 'timestamp','district'])\n",
    "\n",
    "    for i in the_list :\n",
    "        handle = i[1]\n",
    "        df = extract_tweets(handle)\n",
    "        df['message'] = df['message'].apply(TweetCleaner)\n",
    "        #df['province'] = i[3]\n",
    "        #df['metro'] = i[4]\n",
    "        df['district'] = i[0]\n",
    "        #df['water_board'] = i[2]\n",
    "\n",
    "        dummy_df = dummy_df.append(df)\n",
    "    \n",
    "    dummy_df = dummy_df.drop([0])\n",
    "    dummy_df = dummy_df.reset_index()\n",
    "    \n",
    "    #res = [keys for keys in key_words if(keys in dummy_df['message'])] # Suppose to filter key words\n",
    "        \n",
    "    \n",
    "    return dummy_df\n"
   ]
  },
  {
   "cell_type": "markdown",
   "metadata": {},
   "source": [
    "### Build Data"
   ]
  },
  {
   "cell_type": "code",
   "execution_count": 37,
   "metadata": {},
   "outputs": [],
   "source": [
    "database = create_df(master_list)"
   ]
  },
  {
   "cell_type": "code",
   "execution_count": 38,
   "metadata": {},
   "outputs": [
    {
     "data": {
      "text/html": [
       "<div>\n",
       "<style scoped>\n",
       "    .dataframe tbody tr th:only-of-type {\n",
       "        vertical-align: middle;\n",
       "    }\n",
       "\n",
       "    .dataframe tbody tr th {\n",
       "        vertical-align: top;\n",
       "    }\n",
       "\n",
       "    .dataframe thead th {\n",
       "        text-align: right;\n",
       "    }\n",
       "</style>\n",
       "<table border=\"1\" class=\"dataframe\">\n",
       "  <thead>\n",
       "    <tr style=\"text-align: right;\">\n",
       "      <th></th>\n",
       "      <th>index</th>\n",
       "      <th>message</th>\n",
       "      <th>timestamp</th>\n",
       "      <th>district</th>\n",
       "    </tr>\n",
       "  </thead>\n",
       "  <tbody>\n",
       "    <tr>\n",
       "      <th>0</th>\n",
       "      <td>1</td>\n",
       "      <td>on covid 19 talk mr ndyebo kopo from gcis_ecap...</td>\n",
       "      <td>2020-07-08 08:30:48</td>\n",
       "      <td>alfred_enzo</td>\n",
       "    </tr>\n",
       "    <tr>\n",
       "      <th>1</th>\n",
       "      <td>1</td>\n",
       "      <td>i have no doubt this was human e…</td>\n",
       "      <td>2020-07-09 16:54:59</td>\n",
       "      <td>amajuba</td>\n",
       "    </tr>\n",
       "    <tr>\n",
       "      <th>2</th>\n",
       "      <td>2</td>\n",
       "      <td>lmaoo ayibo is it in line with your communicat...</td>\n",
       "      <td>2020-07-09 16:51:01</td>\n",
       "      <td>amajuba</td>\n",
       "    </tr>\n",
       "    <tr>\n",
       "      <th>3</th>\n",
       "      <td>3</td>\n",
       "      <td>offices closed today until further notice due ...</td>\n",
       "      <td>2020-07-07 20:31:00</td>\n",
       "      <td>amajuba</td>\n",
       "    </tr>\n",
       "    <tr>\n",
       "      <th>4</th>\n",
       "      <td>4</td>\n",
       "      <td>good morning please install water meters for w...</td>\n",
       "      <td>2020-07-06 05:21:52</td>\n",
       "      <td>amajuba</td>\n",
       "    </tr>\n",
       "    <tr>\n",
       "      <th>...</th>\n",
       "      <td>...</td>\n",
       "      <td>...</td>\n",
       "      <td>...</td>\n",
       "      <td>...</td>\n",
       "    </tr>\n",
       "    <tr>\n",
       "      <th>478</th>\n",
       "      <td>3</td>\n",
       "      <td>123 xhariep district mayor mongi ntwanambi’s f...</td>\n",
       "      <td>2020-07-03 07:47:01</td>\n",
       "      <td>xhariep</td>\n",
       "    </tr>\n",
       "    <tr>\n",
       "      <th>479</th>\n",
       "      <td>4</td>\n",
       "      <td>must improve as xhariep district municipality ...</td>\n",
       "      <td>2020-07-02 21:17:24</td>\n",
       "      <td>xhariep</td>\n",
       "    </tr>\n",
       "    <tr>\n",
       "      <th>480</th>\n",
       "      <td>1</td>\n",
       "      <td>zululand district municipality offices tempora...</td>\n",
       "      <td>2020-07-03 10:52:03</td>\n",
       "      <td>zululand</td>\n",
       "    </tr>\n",
       "    <tr>\n",
       "      <th>481</th>\n",
       "      <td>2</td>\n",
       "      <td>zululand district municipality offices tempora...</td>\n",
       "      <td>2020-07-03 07:36:28</td>\n",
       "      <td>zululand</td>\n",
       "    </tr>\n",
       "    <tr>\n",
       "      <th>482</th>\n",
       "      <td>3</td>\n",
       "      <td>zululand district municipality offices tempora...</td>\n",
       "      <td>2020-07-02 15:34:51</td>\n",
       "      <td>zululand</td>\n",
       "    </tr>\n",
       "  </tbody>\n",
       "</table>\n",
       "<p>483 rows × 4 columns</p>\n",
       "</div>"
      ],
      "text/plain": [
       "     index                                            message  \\\n",
       "0        1  on covid 19 talk mr ndyebo kopo from gcis_ecap...   \n",
       "1        1                 i have no doubt this was human e…    \n",
       "2        2  lmaoo ayibo is it in line with your communicat...   \n",
       "3        3  offices closed today until further notice due ...   \n",
       "4        4  good morning please install water meters for w...   \n",
       "..     ...                                                ...   \n",
       "478      3  123 xhariep district mayor mongi ntwanambi’s f...   \n",
       "479      4  must improve as xhariep district municipality ...   \n",
       "480      1  zululand district municipality offices tempora...   \n",
       "481      2  zululand district municipality offices tempora...   \n",
       "482      3  zululand district municipality offices tempora...   \n",
       "\n",
       "               timestamp     district  \n",
       "0    2020-07-08 08:30:48  alfred_enzo  \n",
       "1    2020-07-09 16:54:59      amajuba  \n",
       "2    2020-07-09 16:51:01      amajuba  \n",
       "3    2020-07-07 20:31:00      amajuba  \n",
       "4    2020-07-06 05:21:52      amajuba  \n",
       "..                   ...          ...  \n",
       "478  2020-07-03 07:47:01      xhariep  \n",
       "479  2020-07-02 21:17:24      xhariep  \n",
       "480  2020-07-03 10:52:03     zululand  \n",
       "481  2020-07-03 07:36:28     zululand  \n",
       "482  2020-07-02 15:34:51     zululand  \n",
       "\n",
       "[483 rows x 4 columns]"
      ]
     },
     "execution_count": 38,
     "metadata": {},
     "output_type": "execute_result"
    }
   ],
   "source": [
    "database"
   ]
  },
  {
   "cell_type": "markdown",
   "metadata": {},
   "source": [
    "### Database connection"
   ]
  },
  {
   "cell_type": "code",
   "execution_count": 39,
   "metadata": {},
   "outputs": [
    {
     "ename": "SyntaxError",
     "evalue": "invalid syntax (<ipython-input-39-054d67dececc>, line 2)",
     "output_type": "error",
     "traceback": [
      "\u001b[1;36m  File \u001b[1;32m\"<ipython-input-39-054d67dececc>\"\u001b[1;36m, line \u001b[1;32m2\u001b[0m\n\u001b[1;33m    .\u001b[0m\n\u001b[1;37m    ^\u001b[0m\n\u001b[1;31mSyntaxError\u001b[0m\u001b[1;31m:\u001b[0m invalid syntax\n"
     ]
    }
   ],
   "source": [
    "#### Not intergrated yet ####\n",
    "."
   ]
  },
  {
   "cell_type": "code",
   "execution_count": null,
   "metadata": {},
   "outputs": [],
   "source": [
    "###---Setting up connection---###\n",
    "###---Extracting old table from SQL---###\n",
    "from sqlalchemy import create_engine\n",
    "import urllib\n",
    "conn = pyodbc.connect(driver='{SQL Server}',\n",
    "                          host='ENTER_HOST',                        ### Displayed when you log into SQL  \n",
    "                          database='Eskom_Database',                ### Make sure name matches the one used in SQL\n",
    "                          trusted_connection='tcon',\n",
    "                          user='sa')\n",
    "twitter_table = pd.read_sql_query('select * from dbo.twitter_table',conn)"
   ]
  },
  {
   "cell_type": "code",
   "execution_count": null,
   "metadata": {
    "colab": {},
    "colab_type": "code",
    "id": "yqdiXb5JRiBo"
   },
   "outputs": [],
   "source": [
    "def pyodbc_twitter(connection, df, twitter_table):\n",
    "    \"\"\"\n",
    "    Function takes the dataframe returned by extract_municipality_hashtags() , Update\n",
    "    the old twitter table in SQL using the pyodbc connection\n",
    "    \n",
    "    Args :\n",
    "        Connection : A connection between python and SQL Server using pyodbc module\n",
    "        df : Pandas Dataframe , Latests tweets and dates along with municipalities and hashtags columns\n",
    "        twitter_table : Pandas Dataframe , Old table available in the SQL database yet to be updated\n",
    "    \n",
    "    Returns :\n",
    "         None\n",
    "    \n",
    "    \"\"\"\n",
    "    params = urllib.parse.quote_plus(\"DRIVER={SQL Server};SERVER=ENTER_HOST;DATABASE=Eskom_Database;UID=sa;trusted_connection='tcon'\")     ### Enter your host on 'Server' in string format                            \n",
    "    engine = create_engine(\"mssql+pyodbc:///?odbc_connect=%s\" % params)\n",
    "    df = pd.merge(df_fresh_tweets,twitter_table, how='outer', left_on=['Tweets','Date','municipality','hashtags'], right_on = ['Tweets','Date','municipality','hashtags'])\n",
    "    df.to_sql('twitter_table', con=engine , if_exists = 'replace' , index = False)    \n",
    "    return None \n",
    "pyodbc_twitter(conn, df_fresh_tweets, twitter_table)"
   ]
  },
  {
   "cell_type": "code",
   "execution_count": null,
   "metadata": {},
   "outputs": [],
   "source": []
  }
 ],
 "metadata": {
  "colab": {
   "name": "pipeline_student_version.ipynb",
   "provenance": []
  },
  "kernelspec": {
   "display_name": "Python 3",
   "language": "python",
   "name": "python3"
  },
  "language_info": {
   "codemirror_mode": {
    "name": "ipython",
    "version": 3
   },
   "file_extension": ".py",
   "mimetype": "text/x-python",
   "name": "python",
   "nbconvert_exporter": "python",
   "pygments_lexer": "ipython3",
   "version": "3.7.4"
  }
 },
 "nbformat": 4,
 "nbformat_minor": 1
}
